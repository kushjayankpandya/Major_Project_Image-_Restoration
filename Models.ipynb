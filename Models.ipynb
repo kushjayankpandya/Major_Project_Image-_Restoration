{
  "nbformat": 4,
  "nbformat_minor": 0,
  "metadata": {
    "kernelspec": {
      "display_name": "Python 3",
      "language": "python",
      "name": "python3"
    },
    "language_info": {
      "codemirror_mode": {
        "name": "ipython",
        "version": 3
      },
      "file_extension": ".py",
      "mimetype": "text/x-python",
      "name": "python",
      "nbconvert_exporter": "python",
      "pygments_lexer": "ipython3",
      "version": "3.7.6"
    },
    "colab": {
      "name": "Models.ipynb",
      "provenance": []
    }
  },
  "cells": [
    {
      "cell_type": "markdown",
      "metadata": {
        "id": "9D5xZOHQfNN0"
      },
      "source": [
        "#Smodel 1:"
      ]
    },
    {
      "cell_type": "code",
      "metadata": {
        "id": "42Xod-IkfITN"
      },
      "source": [
        "\n",
        "\n",
        "from keras.layers import Input, Dense, Conv2D , Add,Conv2DTranspose\n",
        "from keras.models import Model\n",
        "\n",
        "inputs = Input(shape=(512, 512, 3))\n",
        "\n",
        "\n",
        "\n",
        "layer1 = Conv2D(3, strides = (1,1),kernel_size=5,padding='same', activation='relu', input_shape=(512, 512, 3))(inputs)\n",
        "layer2 = Conv2D(3, strides =(1,1),kernel_size=5,padding='same', activation='relu')(layer1)\n",
        "layer3 = Conv2D(3, strides =(1,1),kernel_size=5,padding='same', activation='relu')(layer2)\n",
        "layer4 = Conv2D(3, strides = (1,1),kernel_size=5,padding='same', activation='relu')(layer3)\n",
        "layer5 = Conv2D(3, strides = (1,1),kernel_size=5,padding='same', activation='relu')(layer4)\n",
        "layer6 = Conv2D(3, strides = (1,1),kernel_size=5,padding='same', activation='relu')(layer5)\n",
        "\n",
        "\n",
        "\n",
        "model = Model(inputs=inputs, outputs=layer6)"
      ],
      "execution_count": null,
      "outputs": []
    },
    {
      "cell_type": "markdown",
      "metadata": {
        "id": "7wgJW0W2fUfz"
      },
      "source": [
        "\n",
        "#Smodel 2:"
      ]
    },
    {
      "cell_type": "code",
      "metadata": {
        "id": "rrYU2nAMfITN"
      },
      "source": [
        "\n",
        "\n",
        "from keras.layers import Input, Dense, Conv2D , Add,Conv2DTranspose\n",
        "from keras.models import Model\n",
        "\n",
        "inputs = Input(shape=(512, 512, 3))\n",
        "\n",
        "leaky_relu = tf.keras.layers.LeakyReLU(alpha=0.1)\n",
        "\n",
        "layer1 = Conv2D(3, strides = (1,1),kernel_size=5,padding='same', activation='relu', input_shape=(512, 512, 3))(inputs)\n",
        "layer2 = Conv2D(3, strides =(1,1),kernel_size=5,padding='same', activation='relu')(layer1)\n",
        "layer3 = Conv2D(3, strides =(1,1),kernel_size=5,padding='same', activation='relu')(layer2)\n",
        "layer4 = Conv2D(3, strides = (1,1),kernel_size=5,padding='same', activation='relu')(layer3)\n",
        "layer5 = Conv2D(3, strides = (1,1),kernel_size=5,padding='same', activation='relu')(layer4)\n",
        "layer6 = Conv2D(3, strides = (1,1),kernel_size=5,padding='same', activation='relu')(layer5)\n",
        "layer7 = Conv2D(3, strides =(1,1),kernel_size=5,padding='same', activation='relu')(layer6)\n",
        "layer8 = Conv2D(3, strides = (1,1),kernel_size=5,padding='same', activation='relu')(layer7)\n",
        "layer9 = Conv2D(3, strides = (1,1),kernel_size=5,padding='same', activation='relu')(layer8)\n",
        "layer10 = Conv2D(3, strides = (1,1),kernel_size=5,padding='same', activation='relu')(layer9)\n",
        "\n",
        "\n",
        "\n",
        "model = Model(inputs=inputs, outputs=layer10)"
      ],
      "execution_count": null,
      "outputs": []
    },
    {
      "cell_type": "markdown",
      "metadata": {
        "id": "UwuMfrcqfXyC"
      },
      "source": [
        "\n",
        "#Model 1:"
      ]
    },
    {
      "cell_type": "code",
      "metadata": {
        "id": "mBkk27W-fITN"
      },
      "source": [
        "\n",
        "\n",
        "from keras.layers import Input, Dense, Conv2D , Add,Conv2DTranspose\n",
        "from keras.models import Model\n",
        "\n",
        "inputs = Input(shape=(512, 512, 3))\n",
        "\n",
        "\n",
        "\n",
        "layer1 = Conv2D(3, strides = (1,1),kernel_size=5,padding='same', activation='relu', input_shape=(512, 512, 3))(inputs)\n",
        "layer2 = Conv2D(6, strides =(1,1),kernel_size=5,padding='same', activation='relu')(layer1)\n",
        "layer3 = Conv2D(3, strides =(1,1),kernel_size=5,padding='same', activation='relu')(layer2)\n",
        "merge1 = Add()([layer1,layer3])\n",
        "layer4 = Conv2D(3, strides = (1,1),kernel_size=5,padding='same', activation='relu')(merge1)\n",
        "layer5 = Conv2D(6, strides =(1,1),kernel_size=5,padding='same', activation='relu')(layer4)\n",
        "layer6 = Conv2D(3, strides =(1,1),kernel_size=5,padding='same', activation='relu')(layer5)\n",
        "merge2 = Add()([layer4,layer6])\n",
        "layer7 = Conv2D(3, strides = (1,1),kernel_size=5,padding='same', activation='relu')(merge2)\n",
        "layer8 = Conv2D(6, strides =(1,1),kernel_size=5,padding='same', activation='relu')(layer7)\n",
        "layer9 = Conv2D(3, strides =(1,1),kernel_size=5,padding='same', activation='relu')(layer8)\n",
        "merge2 = Add()([layer4,layer6])\n",
        "layer10 = Conv2D(6, strides =(1,1),kernel_size=5,padding='same', activation='relu')(merge2)\n",
        "layer11 = Conv2D(3, strides =(1,1),kernel_size=5,padding='same', activation='relu')(layer10)\n",
        "\n",
        "model = Model(inputs=inputs, outputs=layer11)\n",
        "\n"
      ],
      "execution_count": null,
      "outputs": []
    },
    {
      "cell_type": "markdown",
      "metadata": {
        "id": "qBMx-PDAfecN"
      },
      "source": [
        "#Model 2:"
      ]
    },
    {
      "cell_type": "code",
      "metadata": {
        "id": "pR8ALXqIfITN"
      },
      "source": [
        "\n",
        "\n",
        "from keras.layers import Input, Dense, Conv2D , Add,Conv2DTranspose,maximum\n",
        "from keras.models import Model\n",
        "\n",
        "inputs = Input(shape=(512, 512, 3))\n",
        "\n",
        "\n",
        "\n",
        "layer1 = Conv2D(3, strides = (2,2),kernel_size=5,padding='same', activation='relu', input_shape=(512, 512, 3))(inputs)\n",
        "layer2 = Conv2D(6, strides =(2,2),kernel_size=5,padding='same', activation='relu')(layer1)\n",
        "layer3 = Conv2D(12, strides =(2,2),kernel_size=5,padding='same', activation='relu')(layer2)\n",
        "\n",
        "layer4 = Conv2D(24, strides = (2,2),kernel_size=5,padding='same', activation='relu')(layer3)\n",
        "\n",
        "layer5 = Conv2DTranspose(12,strides=(2, 2),kernel_size = 5,padding='same',activation='relu') (layer4)\n",
        "merge1 = maximum([layer3,layer5])/2\n",
        "layer6 = Conv2DTranspose(6,strides=(2, 2),kernel_size = 5,padding='same',activation='relu') (layer5)\n",
        "merge2 = maximum([layer2,layer6])/2\n",
        "layer7 = Conv2DTranspose(3,strides=(2, 2),kernel_size = 5,padding='same',activation='relu') (merge2)\n",
        "merge3 = maximum([layer1,layer7])/2\n",
        "layer8 = Conv2DTranspose(3,strides=(2, 2),kernel_size = 5,padding='same',activation='relu') (merge3)\n",
        "\n",
        "\n",
        "model = Model(inputs=inputs, outputs=layer8)"
      ],
      "execution_count": null,
      "outputs": []
    },
    {
      "cell_type": "markdown",
      "metadata": {
        "id": "Vr7XGqBLfsZn"
      },
      "source": [
        "#Enhanced Model 1:"
      ]
    },
    {
      "cell_type": "code",
      "metadata": {
        "id": "MGkxJHNJfITN"
      },
      "source": [
        "\n",
        "\n",
        "from keras.layers import Input, Dense, Conv2D , Add,Conv2DTranspose\n",
        "from keras.models import Model\n",
        "\n",
        "inputs = Input(shape=(512, 512, 3))\n",
        "\n",
        "\n",
        "\n",
        "layer1 = Conv2DTranspose(3, strides = (2,2),kernel_size=5,padding='same', activation='relu', input_shape=(512, 512, 3))(inputs)\n",
        "layer2 = Conv2DTranspose(3, strides =(2,2),kernel_size=5,padding='same', activation='relu')(layer1)\n",
        "layer3 = Conv2DTranspose(3, strides =(2,2),kernel_size=5,padding='same', activation='relu')(layer2)\n",
        "layer8 = Conv2D(3, strides = (2,2),kernel_size=5,padding='same', activation='relu')(layer3)\n",
        "layer9 = Conv2D(3, strides = (2,2),kernel_size=5,padding='same', activation='relu')(layer2)\n",
        "layer10 = Conv2D(3, strides = (2,2),kernel_size=5,padding='same', activation='relu')(layer9)\n",
        "layer11 = Conv2D(3, strides = (1,1),kernel_size=5,padding='same', activation='relu')(layer10)\n",
        "\n",
        "\n",
        "\n",
        "model = Model(inputs=inputs, outputs=layer10)"
      ],
      "execution_count": null,
      "outputs": []
    },
    {
      "cell_type": "markdown",
      "metadata": {
        "id": "lsxxc_zpf0Fx"
      },
      "source": [
        "#Enhanced Model 2:"
      ]
    },
    {
      "cell_type": "code",
      "metadata": {
        "id": "q_ijO4JjfITN"
      },
      "source": [
        "\n",
        "\n",
        "from keras.layers import Input, Dense, Conv2D , Add,Conv2DTranspose\n",
        "from keras.models import Model\n",
        "\n",
        "inputs = Input(shape=(512, 512, 3))\n",
        "\n",
        "\n",
        "\n",
        "layer1 = Conv2DTranspose(3, strides = (2,2),kernel_size=5,padding='same', activation='relu', input_shape=(512, 512, 3))(inputs)\n",
        "layer2 = Conv2DTranspose(3, strides =(2,2),kernel_size=5,padding='same', activation='relu')(layer1)\n",
        "\n",
        "layer9 = Conv2D(3, strides = (2,2),kernel_size=5,padding='same', activation='relu')(layer2)\n",
        "layer10 = Conv2D(3, strides = (2,2),kernel_size=5,padding='same', activation='relu')(layer9)\n",
        "layer11 = Conv2D(3, strides = (1,1),kernel_size=5,padding='same', activation='relu')(layer10)\n",
        "\n",
        "\n",
        "\n",
        "model = Model(inputs=inputs, outputs=layer10)"
      ],
      "execution_count": null,
      "outputs": []
    }
  ]
}